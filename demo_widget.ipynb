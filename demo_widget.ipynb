{
 "cells": [
  {
   "cell_type": "code",
   "execution_count": null,
   "id": "6135edeb",
   "metadata": {},
   "outputs": [],
   "source": [
    "import basic_widget\n",
    "import numpy as np\n",
    "\n",
    "n = 30\n",
    "x,y = np.random.random(n),np.random.random(n)\n",
    "colors = [\"black\", \"red\", \"blue\",\"orange\"]\n",
    "\n",
    "widget = basic_widget.Widget(x,y,colors)\n",
    "widget.display()"
   ]
  }
 ],
 "metadata": {
  "kernelspec": {
   "display_name": "Python 3 (ipykernel)",
   "language": "python",
   "name": "python3"
  },
  "language_info": {
   "codemirror_mode": {
    "name": "ipython",
    "version": 3
   },
   "file_extension": ".py",
   "mimetype": "text/x-python",
   "name": "python",
   "nbconvert_exporter": "python",
   "pygments_lexer": "ipython3",
   "version": "3.9.15"
  }
 },
 "nbformat": 4,
 "nbformat_minor": 5
}
